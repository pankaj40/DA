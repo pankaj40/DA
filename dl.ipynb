{
 "cells": [
  {
   "cell_type": "code",
   "execution_count": 41,
   "id": "8aa3a80d",
   "metadata": {},
   "outputs": [],
   "source": [
    "profile={\"NAME\":[\"Pankaj yadav\",\"pooja rao\",\"aman singh\",'ravi kumar'],\"EMAIL\":[\"raopankaj@gamil.com\",\"yadavpooja@gmail.com\",\"singhaman@gmail.com\",\"kumarravi@gmail.com\"]}"
   ]
  },
  {
   "cell_type": "code",
   "execution_count": 42,
   "id": "c1fdc833",
   "metadata": {},
   "outputs": [
    {
     "data": {
      "text/plain": [
       "{'NAME': ['Pankaj yadav', 'pooja rao', 'aman singh', 'ravi kumar'],\n",
       " 'EMAIL': ['raopankaj@gamil.com',\n",
       "  'yadavpooja@gmail.com',\n",
       "  'singhaman@gmail.com',\n",
       "  'kumarravi@gmail.com']}"
      ]
     },
     "execution_count": 42,
     "metadata": {},
     "output_type": "execute_result"
    }
   ],
   "source": [
    "profile"
   ]
  },
  {
   "cell_type": "code",
   "execution_count": 4,
   "id": "a1a3b4bc",
   "metadata": {},
   "outputs": [],
   "source": [
    "import pandas as pd"
   ]
  },
  {
   "cell_type": "code",
   "execution_count": 43,
   "id": "7dc4c213",
   "metadata": {},
   "outputs": [],
   "source": [
    "df=pd.DataFrame(profile)"
   ]
  },
  {
   "cell_type": "code",
   "execution_count": 44,
   "id": "14444fd8",
   "metadata": {},
   "outputs": [
    {
     "data": {
      "text/html": [
       "<div>\n",
       "<style scoped>\n",
       "    .dataframe tbody tr th:only-of-type {\n",
       "        vertical-align: middle;\n",
       "    }\n",
       "\n",
       "    .dataframe tbody tr th {\n",
       "        vertical-align: top;\n",
       "    }\n",
       "\n",
       "    .dataframe thead th {\n",
       "        text-align: right;\n",
       "    }\n",
       "</style>\n",
       "<table border=\"1\" class=\"dataframe\">\n",
       "  <thead>\n",
       "    <tr style=\"text-align: right;\">\n",
       "      <th></th>\n",
       "      <th>NAME</th>\n",
       "      <th>EMAIL</th>\n",
       "    </tr>\n",
       "  </thead>\n",
       "  <tbody>\n",
       "    <tr>\n",
       "      <th>0</th>\n",
       "      <td>Pankaj yadav</td>\n",
       "      <td>raopankaj@gamil.com</td>\n",
       "    </tr>\n",
       "    <tr>\n",
       "      <th>1</th>\n",
       "      <td>pooja rao</td>\n",
       "      <td>yadavpooja@gmail.com</td>\n",
       "    </tr>\n",
       "    <tr>\n",
       "      <th>2</th>\n",
       "      <td>aman singh</td>\n",
       "      <td>singhaman@gmail.com</td>\n",
       "    </tr>\n",
       "    <tr>\n",
       "      <th>3</th>\n",
       "      <td>ravi kumar</td>\n",
       "      <td>kumarravi@gmail.com</td>\n",
       "    </tr>\n",
       "  </tbody>\n",
       "</table>\n",
       "</div>"
      ],
      "text/plain": [
       "           NAME                 EMAIL\n",
       "0  Pankaj yadav   raopankaj@gamil.com\n",
       "1     pooja rao  yadavpooja@gmail.com\n",
       "2    aman singh   singhaman@gmail.com\n",
       "3    ravi kumar   kumarravi@gmail.com"
      ]
     },
     "execution_count": 44,
     "metadata": {},
     "output_type": "execute_result"
    }
   ],
   "source": [
    "df"
   ]
  },
  {
   "cell_type": "code",
   "execution_count": 45,
   "id": "0e79b792",
   "metadata": {},
   "outputs": [
    {
     "data": {
      "text/plain": [
       "pandas.core.frame.DataFrame"
      ]
     },
     "execution_count": 45,
     "metadata": {},
     "output_type": "execute_result"
    }
   ],
   "source": [
    "type(df)"
   ]
  },
  {
   "cell_type": "code",
   "execution_count": 46,
   "id": "3f228693",
   "metadata": {},
   "outputs": [],
   "source": [
    "FNAME=[]\n",
    "LNAME=[]\n",
    "for i in df['NAME']:\n",
    "    FNAME.append(i.split()[0].upper())\n",
    "    LNAME.append(i.split()[1].upper())\n",
    "    \n",
    "df['FNAME']=FNAME\n",
    "df['LNAME']=LNAME\n"
   ]
  },
  {
   "cell_type": "code",
   "execution_count": 47,
   "id": "848452b6",
   "metadata": {},
   "outputs": [
    {
     "data": {
      "text/html": [
       "<div>\n",
       "<style scoped>\n",
       "    .dataframe tbody tr th:only-of-type {\n",
       "        vertical-align: middle;\n",
       "    }\n",
       "\n",
       "    .dataframe tbody tr th {\n",
       "        vertical-align: top;\n",
       "    }\n",
       "\n",
       "    .dataframe thead th {\n",
       "        text-align: right;\n",
       "    }\n",
       "</style>\n",
       "<table border=\"1\" class=\"dataframe\">\n",
       "  <thead>\n",
       "    <tr style=\"text-align: right;\">\n",
       "      <th></th>\n",
       "      <th>NAME</th>\n",
       "      <th>EMAIL</th>\n",
       "      <th>FNAME</th>\n",
       "      <th>LNAME</th>\n",
       "    </tr>\n",
       "  </thead>\n",
       "  <tbody>\n",
       "    <tr>\n",
       "      <th>0</th>\n",
       "      <td>Pankaj yadav</td>\n",
       "      <td>raopankaj@gamil.com</td>\n",
       "      <td>PANKAJ</td>\n",
       "      <td>YADAV</td>\n",
       "    </tr>\n",
       "    <tr>\n",
       "      <th>1</th>\n",
       "      <td>pooja rao</td>\n",
       "      <td>yadavpooja@gmail.com</td>\n",
       "      <td>POOJA</td>\n",
       "      <td>RAO</td>\n",
       "    </tr>\n",
       "    <tr>\n",
       "      <th>2</th>\n",
       "      <td>aman singh</td>\n",
       "      <td>singhaman@gmail.com</td>\n",
       "      <td>AMAN</td>\n",
       "      <td>SINGH</td>\n",
       "    </tr>\n",
       "    <tr>\n",
       "      <th>3</th>\n",
       "      <td>ravi kumar</td>\n",
       "      <td>kumarravi@gmail.com</td>\n",
       "      <td>RAVI</td>\n",
       "      <td>KUMAR</td>\n",
       "    </tr>\n",
       "  </tbody>\n",
       "</table>\n",
       "</div>"
      ],
      "text/plain": [
       "           NAME                 EMAIL   FNAME  LNAME\n",
       "0  Pankaj yadav   raopankaj@gamil.com  PANKAJ  YADAV\n",
       "1     pooja rao  yadavpooja@gmail.com   POOJA    RAO\n",
       "2    aman singh   singhaman@gmail.com    AMAN  SINGH\n",
       "3    ravi kumar   kumarravi@gmail.com    RAVI  KUMAR"
      ]
     },
     "execution_count": 47,
     "metadata": {},
     "output_type": "execute_result"
    }
   ],
   "source": [
    "df"
   ]
  },
  {
   "cell_type": "code",
   "execution_count": 56,
   "id": "11e8dac6",
   "metadata": {},
   "outputs": [],
   "source": [
    "username=[]\n",
    "for i in df[\"EMAIL\"]:\n",
    "    username.append(i.split(\"@\")[0])\n",
    "    \n",
    "df['username']=username"
   ]
  },
  {
   "cell_type": "code",
   "execution_count": 57,
   "id": "fce99376",
   "metadata": {},
   "outputs": [
    {
     "data": {
      "text/html": [
       "<div>\n",
       "<style scoped>\n",
       "    .dataframe tbody tr th:only-of-type {\n",
       "        vertical-align: middle;\n",
       "    }\n",
       "\n",
       "    .dataframe tbody tr th {\n",
       "        vertical-align: top;\n",
       "    }\n",
       "\n",
       "    .dataframe thead th {\n",
       "        text-align: right;\n",
       "    }\n",
       "</style>\n",
       "<table border=\"1\" class=\"dataframe\">\n",
       "  <thead>\n",
       "    <tr style=\"text-align: right;\">\n",
       "      <th></th>\n",
       "      <th>NAME</th>\n",
       "      <th>EMAIL</th>\n",
       "      <th>FNAME</th>\n",
       "      <th>LNAME</th>\n",
       "      <th>username</th>\n",
       "    </tr>\n",
       "  </thead>\n",
       "  <tbody>\n",
       "    <tr>\n",
       "      <th>0</th>\n",
       "      <td>Pankaj yadav</td>\n",
       "      <td>raopankaj@gamil.com</td>\n",
       "      <td>PANKAJ</td>\n",
       "      <td>YADAV</td>\n",
       "      <td>raopankaj</td>\n",
       "    </tr>\n",
       "    <tr>\n",
       "      <th>1</th>\n",
       "      <td>pooja rao</td>\n",
       "      <td>yadavpooja@gmail.com</td>\n",
       "      <td>POOJA</td>\n",
       "      <td>RAO</td>\n",
       "      <td>yadavpooja</td>\n",
       "    </tr>\n",
       "    <tr>\n",
       "      <th>2</th>\n",
       "      <td>aman singh</td>\n",
       "      <td>singhaman@gmail.com</td>\n",
       "      <td>AMAN</td>\n",
       "      <td>SINGH</td>\n",
       "      <td>singhaman</td>\n",
       "    </tr>\n",
       "    <tr>\n",
       "      <th>3</th>\n",
       "      <td>ravi kumar</td>\n",
       "      <td>kumarravi@gmail.com</td>\n",
       "      <td>RAVI</td>\n",
       "      <td>KUMAR</td>\n",
       "      <td>kumarravi</td>\n",
       "    </tr>\n",
       "  </tbody>\n",
       "</table>\n",
       "</div>"
      ],
      "text/plain": [
       "           NAME                 EMAIL   FNAME  LNAME    username\n",
       "0  Pankaj yadav   raopankaj@gamil.com  PANKAJ  YADAV   raopankaj\n",
       "1     pooja rao  yadavpooja@gmail.com   POOJA    RAO  yadavpooja\n",
       "2    aman singh   singhaman@gmail.com    AMAN  SINGH   singhaman\n",
       "3    ravi kumar   kumarravi@gmail.com    RAVI  KUMAR   kumarravi"
      ]
     },
     "execution_count": 57,
     "metadata": {},
     "output_type": "execute_result"
    }
   ],
   "source": [
    "df"
   ]
  },
  {
   "cell_type": "code",
   "execution_count": 62,
   "id": "58fde1bd",
   "metadata": {},
   "outputs": [],
   "source": [
    "nemail=[]\n",
    "for i in username:\n",
    "    nemail.append(i+\"@gmail.com\")\n",
    "df['nemail']=nemail"
   ]
  },
  {
   "cell_type": "code",
   "execution_count": 63,
   "id": "8a5d8912",
   "metadata": {},
   "outputs": [
    {
     "data": {
      "text/html": [
       "<div>\n",
       "<style scoped>\n",
       "    .dataframe tbody tr th:only-of-type {\n",
       "        vertical-align: middle;\n",
       "    }\n",
       "\n",
       "    .dataframe tbody tr th {\n",
       "        vertical-align: top;\n",
       "    }\n",
       "\n",
       "    .dataframe thead th {\n",
       "        text-align: right;\n",
       "    }\n",
       "</style>\n",
       "<table border=\"1\" class=\"dataframe\">\n",
       "  <thead>\n",
       "    <tr style=\"text-align: right;\">\n",
       "      <th></th>\n",
       "      <th>NAME</th>\n",
       "      <th>EMAIL</th>\n",
       "      <th>FNAME</th>\n",
       "      <th>LNAME</th>\n",
       "      <th>username</th>\n",
       "      <th>nemail</th>\n",
       "    </tr>\n",
       "  </thead>\n",
       "  <tbody>\n",
       "    <tr>\n",
       "      <th>0</th>\n",
       "      <td>Pankaj yadav</td>\n",
       "      <td>raopankaj@gamil.com</td>\n",
       "      <td>PANKAJ</td>\n",
       "      <td>YADAV</td>\n",
       "      <td>raopankaj</td>\n",
       "      <td>raopankaj@gmail.com</td>\n",
       "    </tr>\n",
       "    <tr>\n",
       "      <th>1</th>\n",
       "      <td>pooja rao</td>\n",
       "      <td>yadavpooja@gmail.com</td>\n",
       "      <td>POOJA</td>\n",
       "      <td>RAO</td>\n",
       "      <td>yadavpooja</td>\n",
       "      <td>yadavpooja@gmail.com</td>\n",
       "    </tr>\n",
       "    <tr>\n",
       "      <th>2</th>\n",
       "      <td>aman singh</td>\n",
       "      <td>singhaman@gmail.com</td>\n",
       "      <td>AMAN</td>\n",
       "      <td>SINGH</td>\n",
       "      <td>singhaman</td>\n",
       "      <td>singhaman@gmail.com</td>\n",
       "    </tr>\n",
       "    <tr>\n",
       "      <th>3</th>\n",
       "      <td>ravi kumar</td>\n",
       "      <td>kumarravi@gmail.com</td>\n",
       "      <td>RAVI</td>\n",
       "      <td>KUMAR</td>\n",
       "      <td>kumarravi</td>\n",
       "      <td>kumarravi@gmail.com</td>\n",
       "    </tr>\n",
       "  </tbody>\n",
       "</table>\n",
       "</div>"
      ],
      "text/plain": [
       "           NAME                 EMAIL   FNAME  LNAME    username  \\\n",
       "0  Pankaj yadav   raopankaj@gamil.com  PANKAJ  YADAV   raopankaj   \n",
       "1     pooja rao  yadavpooja@gmail.com   POOJA    RAO  yadavpooja   \n",
       "2    aman singh   singhaman@gmail.com    AMAN  SINGH   singhaman   \n",
       "3    ravi kumar   kumarravi@gmail.com    RAVI  KUMAR   kumarravi   \n",
       "\n",
       "                 nemail  \n",
       "0   raopankaj@gmail.com  \n",
       "1  yadavpooja@gmail.com  \n",
       "2   singhaman@gmail.com  \n",
       "3   kumarravi@gmail.com  "
      ]
     },
     "execution_count": 63,
     "metadata": {},
     "output_type": "execute_result"
    }
   ],
   "source": [
    "df"
   ]
  },
  {
   "cell_type": "code",
   "execution_count": 71,
   "id": "63ec9d6f",
   "metadata": {},
   "outputs": [],
   "source": [
    "intro=[]\n",
    "for i in range(len(df)):\n",
    "    intro.append('My name is {} and my email is {}'.format(df['FNAME'][i],df['EMAIL'][i]))\n",
    "df['intro']=intro"
   ]
  },
  {
   "cell_type": "code",
   "execution_count": 72,
   "id": "e1b9651b",
   "metadata": {},
   "outputs": [
    {
     "data": {
      "text/html": [
       "<div>\n",
       "<style scoped>\n",
       "    .dataframe tbody tr th:only-of-type {\n",
       "        vertical-align: middle;\n",
       "    }\n",
       "\n",
       "    .dataframe tbody tr th {\n",
       "        vertical-align: top;\n",
       "    }\n",
       "\n",
       "    .dataframe thead th {\n",
       "        text-align: right;\n",
       "    }\n",
       "</style>\n",
       "<table border=\"1\" class=\"dataframe\">\n",
       "  <thead>\n",
       "    <tr style=\"text-align: right;\">\n",
       "      <th></th>\n",
       "      <th>NAME</th>\n",
       "      <th>EMAIL</th>\n",
       "      <th>FNAME</th>\n",
       "      <th>LNAME</th>\n",
       "      <th>username</th>\n",
       "      <th>nemail</th>\n",
       "      <th>intro</th>\n",
       "    </tr>\n",
       "  </thead>\n",
       "  <tbody>\n",
       "    <tr>\n",
       "      <th>0</th>\n",
       "      <td>Pankaj yadav</td>\n",
       "      <td>raopankaj@gamil.com</td>\n",
       "      <td>PANKAJ</td>\n",
       "      <td>YADAV</td>\n",
       "      <td>raopankaj</td>\n",
       "      <td>raopankaj@gmail.com</td>\n",
       "      <td>My name is PANKAJ and my email is raopankaj@ga...</td>\n",
       "    </tr>\n",
       "    <tr>\n",
       "      <th>1</th>\n",
       "      <td>pooja rao</td>\n",
       "      <td>yadavpooja@gmail.com</td>\n",
       "      <td>POOJA</td>\n",
       "      <td>RAO</td>\n",
       "      <td>yadavpooja</td>\n",
       "      <td>yadavpooja@gmail.com</td>\n",
       "      <td>My name is POOJA and my email is yadavpooja@gm...</td>\n",
       "    </tr>\n",
       "    <tr>\n",
       "      <th>2</th>\n",
       "      <td>aman singh</td>\n",
       "      <td>singhaman@gmail.com</td>\n",
       "      <td>AMAN</td>\n",
       "      <td>SINGH</td>\n",
       "      <td>singhaman</td>\n",
       "      <td>singhaman@gmail.com</td>\n",
       "      <td>My name is AMAN and my email is singhaman@gmai...</td>\n",
       "    </tr>\n",
       "    <tr>\n",
       "      <th>3</th>\n",
       "      <td>ravi kumar</td>\n",
       "      <td>kumarravi@gmail.com</td>\n",
       "      <td>RAVI</td>\n",
       "      <td>KUMAR</td>\n",
       "      <td>kumarravi</td>\n",
       "      <td>kumarravi@gmail.com</td>\n",
       "      <td>My name is RAVI and my email is kumarravi@gmai...</td>\n",
       "    </tr>\n",
       "  </tbody>\n",
       "</table>\n",
       "</div>"
      ],
      "text/plain": [
       "           NAME                 EMAIL   FNAME  LNAME    username  \\\n",
       "0  Pankaj yadav   raopankaj@gamil.com  PANKAJ  YADAV   raopankaj   \n",
       "1     pooja rao  yadavpooja@gmail.com   POOJA    RAO  yadavpooja   \n",
       "2    aman singh   singhaman@gmail.com    AMAN  SINGH   singhaman   \n",
       "3    ravi kumar   kumarravi@gmail.com    RAVI  KUMAR   kumarravi   \n",
       "\n",
       "                 nemail                                              intro  \n",
       "0   raopankaj@gmail.com  My name is PANKAJ and my email is raopankaj@ga...  \n",
       "1  yadavpooja@gmail.com  My name is POOJA and my email is yadavpooja@gm...  \n",
       "2   singhaman@gmail.com  My name is AMAN and my email is singhaman@gmai...  \n",
       "3   kumarravi@gmail.com  My name is RAVI and my email is kumarravi@gmai...  "
      ]
     },
     "execution_count": 72,
     "metadata": {},
     "output_type": "execute_result"
    }
   ],
   "source": [
    "df"
   ]
  },
  {
   "cell_type": "code",
   "execution_count": 78,
   "id": "f69ef2a0",
   "metadata": {},
   "outputs": [
    {
     "data": {
      "text/plain": [
       "'PANKAJ'"
      ]
     },
     "execution_count": 78,
     "metadata": {},
     "output_type": "execute_result"
    }
   ],
   "source": [
    "df['nname']=df['intro'][0][11:17]"
   ]
  },
  {
   "cell_type": "code",
   "execution_count": 85,
   "id": "a9359583",
   "metadata": {},
   "outputs": [],
   "source": [
    "name_len=len(df['FNAME'][i])\n",
    "ra=11+name_len"
   ]
  },
  {
   "cell_type": "code",
   "execution_count": 93,
   "id": "cba221a8",
   "metadata": {},
   "outputs": [],
   "source": [
    "nname=[]\n",
    "for i in range(len(df)):\n",
    "    name_len=len(df['FNAME'][i])\n",
    "    ra=11+name_len\n",
    "    nname.append(df['intro'][i][11:ra])\n",
    "df['nname']=nname  "
   ]
  },
  {
   "cell_type": "code",
   "execution_count": 94,
   "id": "34e0c285",
   "metadata": {},
   "outputs": [
    {
     "data": {
      "text/html": [
       "<div>\n",
       "<style scoped>\n",
       "    .dataframe tbody tr th:only-of-type {\n",
       "        vertical-align: middle;\n",
       "    }\n",
       "\n",
       "    .dataframe tbody tr th {\n",
       "        vertical-align: top;\n",
       "    }\n",
       "\n",
       "    .dataframe thead th {\n",
       "        text-align: right;\n",
       "    }\n",
       "</style>\n",
       "<table border=\"1\" class=\"dataframe\">\n",
       "  <thead>\n",
       "    <tr style=\"text-align: right;\">\n",
       "      <th></th>\n",
       "      <th>NAME</th>\n",
       "      <th>EMAIL</th>\n",
       "      <th>FNAME</th>\n",
       "      <th>LNAME</th>\n",
       "      <th>username</th>\n",
       "      <th>nemail</th>\n",
       "      <th>intro</th>\n",
       "      <th>nname</th>\n",
       "    </tr>\n",
       "  </thead>\n",
       "  <tbody>\n",
       "    <tr>\n",
       "      <th>0</th>\n",
       "      <td>Pankaj yadav</td>\n",
       "      <td>raopankaj@gamil.com</td>\n",
       "      <td>PANKAJ</td>\n",
       "      <td>YADAV</td>\n",
       "      <td>raopankaj</td>\n",
       "      <td>raopankaj@gmail.com</td>\n",
       "      <td>My name is PANKAJ and my email is raopankaj@ga...</td>\n",
       "      <td>PANKAJ</td>\n",
       "    </tr>\n",
       "    <tr>\n",
       "      <th>1</th>\n",
       "      <td>pooja rao</td>\n",
       "      <td>yadavpooja@gmail.com</td>\n",
       "      <td>POOJA</td>\n",
       "      <td>RAO</td>\n",
       "      <td>yadavpooja</td>\n",
       "      <td>yadavpooja@gmail.com</td>\n",
       "      <td>My name is POOJA and my email is yadavpooja@gm...</td>\n",
       "      <td>POOJA</td>\n",
       "    </tr>\n",
       "    <tr>\n",
       "      <th>2</th>\n",
       "      <td>aman singh</td>\n",
       "      <td>singhaman@gmail.com</td>\n",
       "      <td>AMAN</td>\n",
       "      <td>SINGH</td>\n",
       "      <td>singhaman</td>\n",
       "      <td>singhaman@gmail.com</td>\n",
       "      <td>My name is AMAN and my email is singhaman@gmai...</td>\n",
       "      <td>AMAN</td>\n",
       "    </tr>\n",
       "    <tr>\n",
       "      <th>3</th>\n",
       "      <td>ravi kumar</td>\n",
       "      <td>kumarravi@gmail.com</td>\n",
       "      <td>RAVI</td>\n",
       "      <td>KUMAR</td>\n",
       "      <td>kumarravi</td>\n",
       "      <td>kumarravi@gmail.com</td>\n",
       "      <td>My name is RAVI and my email is kumarravi@gmai...</td>\n",
       "      <td>RAVI</td>\n",
       "    </tr>\n",
       "  </tbody>\n",
       "</table>\n",
       "</div>"
      ],
      "text/plain": [
       "           NAME                 EMAIL   FNAME  LNAME    username  \\\n",
       "0  Pankaj yadav   raopankaj@gamil.com  PANKAJ  YADAV   raopankaj   \n",
       "1     pooja rao  yadavpooja@gmail.com   POOJA    RAO  yadavpooja   \n",
       "2    aman singh   singhaman@gmail.com    AMAN  SINGH   singhaman   \n",
       "3    ravi kumar   kumarravi@gmail.com    RAVI  KUMAR   kumarravi   \n",
       "\n",
       "                 nemail                                              intro  \\\n",
       "0   raopankaj@gmail.com  My name is PANKAJ and my email is raopankaj@ga...   \n",
       "1  yadavpooja@gmail.com  My name is POOJA and my email is yadavpooja@gm...   \n",
       "2   singhaman@gmail.com  My name is AMAN and my email is singhaman@gmai...   \n",
       "3   kumarravi@gmail.com  My name is RAVI and my email is kumarravi@gmai...   \n",
       "\n",
       "    nname  \n",
       "0  PANKAJ  \n",
       "1   POOJA  \n",
       "2    AMAN  \n",
       "3    RAVI  "
      ]
     },
     "execution_count": 94,
     "metadata": {},
     "output_type": "execute_result"
    }
   ],
   "source": [
    "df"
   ]
  },
  {
   "cell_type": "code",
   "execution_count": 103,
   "id": "86f0b273",
   "metadata": {},
   "outputs": [
    {
     "data": {
      "text/html": [
       "<div>\n",
       "<style scoped>\n",
       "    .dataframe tbody tr th:only-of-type {\n",
       "        vertical-align: middle;\n",
       "    }\n",
       "\n",
       "    .dataframe tbody tr th {\n",
       "        vertical-align: top;\n",
       "    }\n",
       "\n",
       "    .dataframe thead th {\n",
       "        text-align: right;\n",
       "    }\n",
       "</style>\n",
       "<table border=\"1\" class=\"dataframe\">\n",
       "  <thead>\n",
       "    <tr style=\"text-align: right;\">\n",
       "      <th></th>\n",
       "      <th>NAME</th>\n",
       "      <th>EMAIL</th>\n",
       "      <th>FNAME</th>\n",
       "      <th>LNAME</th>\n",
       "      <th>username</th>\n",
       "      <th>nemail</th>\n",
       "      <th>intro</th>\n",
       "      <th>nname</th>\n",
       "      <th>femail</th>\n",
       "    </tr>\n",
       "  </thead>\n",
       "  <tbody>\n",
       "    <tr>\n",
       "      <th>0</th>\n",
       "      <td>Pankaj yadav</td>\n",
       "      <td>raopankaj@gamil.com</td>\n",
       "      <td>PANKAJ</td>\n",
       "      <td>YADAV</td>\n",
       "      <td>raopankaj</td>\n",
       "      <td>raopankaj@gmail.com</td>\n",
       "      <td>My name is PANKAJ and my email is raopankaj@ga...</td>\n",
       "      <td>PANKAJ</td>\n",
       "      <td>PANKAJ and my email</td>\n",
       "    </tr>\n",
       "    <tr>\n",
       "      <th>1</th>\n",
       "      <td>pooja rao</td>\n",
       "      <td>yadavpooja@gmail.com</td>\n",
       "      <td>POOJA</td>\n",
       "      <td>RAO</td>\n",
       "      <td>yadavpooja</td>\n",
       "      <td>yadavpooja@gmail.com</td>\n",
       "      <td>My name is POOJA and my email is yadavpooja@gm...</td>\n",
       "      <td>POOJA</td>\n",
       "      <td>POOJA and my email</td>\n",
       "    </tr>\n",
       "    <tr>\n",
       "      <th>2</th>\n",
       "      <td>aman singh</td>\n",
       "      <td>singhaman@gmail.com</td>\n",
       "      <td>AMAN</td>\n",
       "      <td>SINGH</td>\n",
       "      <td>singhaman</td>\n",
       "      <td>singhaman@gmail.com</td>\n",
       "      <td>My name is AMAN and my email is singhaman@gmai...</td>\n",
       "      <td>AMAN</td>\n",
       "      <td>AMAN and my email</td>\n",
       "    </tr>\n",
       "    <tr>\n",
       "      <th>3</th>\n",
       "      <td>ravi kumar</td>\n",
       "      <td>kumarravi@gmail.com</td>\n",
       "      <td>RAVI</td>\n",
       "      <td>KUMAR</td>\n",
       "      <td>kumarravi</td>\n",
       "      <td>kumarravi@gmail.com</td>\n",
       "      <td>My name is RAVI and my email is kumarravi@gmai...</td>\n",
       "      <td>RAVI</td>\n",
       "      <td>RAVI and my email</td>\n",
       "    </tr>\n",
       "  </tbody>\n",
       "</table>\n",
       "</div>"
      ],
      "text/plain": [
       "           NAME                 EMAIL   FNAME  LNAME    username  \\\n",
       "0  Pankaj yadav   raopankaj@gamil.com  PANKAJ  YADAV   raopankaj   \n",
       "1     pooja rao  yadavpooja@gmail.com   POOJA    RAO  yadavpooja   \n",
       "2    aman singh   singhaman@gmail.com    AMAN  SINGH   singhaman   \n",
       "3    ravi kumar   kumarravi@gmail.com    RAVI  KUMAR   kumarravi   \n",
       "\n",
       "                 nemail                                              intro  \\\n",
       "0   raopankaj@gmail.com  My name is PANKAJ and my email is raopankaj@ga...   \n",
       "1  yadavpooja@gmail.com  My name is POOJA and my email is yadavpooja@gm...   \n",
       "2   singhaman@gmail.com  My name is AMAN and my email is singhaman@gmai...   \n",
       "3   kumarravi@gmail.com  My name is RAVI and my email is kumarravi@gmai...   \n",
       "\n",
       "    nname                femail  \n",
       "0  PANKAJ  PANKAJ and my email   \n",
       "1   POOJA   POOJA and my email   \n",
       "2    AMAN    AMAN and my email   \n",
       "3    RAVI    RAVI and my email   "
      ]
     },
     "execution_count": 103,
     "metadata": {},
     "output_type": "execute_result"
    }
   ],
   "source": [
    "df"
   ]
  },
  {
   "cell_type": "code",
   "execution_count": null,
   "id": "9b895751",
   "metadata": {},
   "outputs": [],
   "source": [
    "df.drop(df['femail'])"
   ]
  }
 ],
 "metadata": {
  "kernelspec": {
   "display_name": "Python 3 (ipykernel)",
   "language": "python",
   "name": "python3"
  },
  "language_info": {
   "codemirror_mode": {
    "name": "ipython",
    "version": 3
   },
   "file_extension": ".py",
   "mimetype": "text/x-python",
   "name": "python",
   "nbconvert_exporter": "python",
   "pygments_lexer": "ipython3",
   "version": "3.9.5"
  }
 },
 "nbformat": 4,
 "nbformat_minor": 5
}
