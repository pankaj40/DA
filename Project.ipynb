{
 "cells": [
  {
   "cell_type": "code",
   "execution_count": 26,
   "id": "86a309cf",
   "metadata": {},
   "outputs": [],
   "source": [
    "import pandas as pd\n",
    "import requests\n",
    "from bs4 import BeautifulSoup as bs"
   ]
  },
  {
   "cell_type": "code",
   "execution_count": 75,
   "id": "94b0ea6d",
   "metadata": {},
   "outputs": [],
   "source": [
    "import seaborn as sns"
   ]
  },
  {
   "cell_type": "code",
   "execution_count": 43,
   "id": "50268a14",
   "metadata": {},
   "outputs": [],
   "source": [
    "Namess=[]\n",
    "Ratingss=[]\n",
    "Votess=[]\n",
    "Info=[]\n",
    "Pricess=[]\n"
   ]
  },
  {
   "cell_type": "code",
   "execution_count": 44,
   "id": "fa786f2c",
   "metadata": {},
   "outputs": [],
   "source": [
    "for i in range(1,6):\n",
    "    url='https://www.flipkart.com/search?q=mobile+5g&otracker=search&otracker1=search&marketplace=FLIPKART&as-show=on&as=off&as-pos=1&as-type=HISTORY&page='+str(i)\n",
    "    req=requests.get(url)\n",
    "    con=bs(req.content,'html.parser')\n",
    "    store=con.find_all('div',class_='_3pLy-c row')\n",
    "    for data in store:\n",
    "        name=data.find('div',class_='_4rR01T').text\n",
    "        Namess.append(name)\n",
    "        \n",
    "        rating=data.find('div',class_='_3LWZlK').text if data.find('div',class_='_3LWZlK') else \"***\"\n",
    "        Ratingss.append(rating)\n",
    "        \n",
    "        votes=data.find('span',class_='_2_R_DZ').text if data.find('span',class_='_2_R_DZ') else \"**\"\n",
    "        Votess.append(votes)\n",
    "        \n",
    "        inf=data.find('ul',class_='_1xgFaf').text\n",
    "        Info.append(inf)\n",
    "        \n",
    "        price=data.find('div',class_='_30jeq3 _1_WHN1').text\n",
    "        Pricess.append(price)\n",
    "        \n",
    "        \n",
    "        \n",
    "        \n",
    "        \n"
   ]
  },
  {
   "cell_type": "code",
   "execution_count": 88,
   "id": "380715f4",
   "metadata": {},
   "outputs": [],
   "source": [
    "df=pd.DataFrame()"
   ]
  },
  {
   "cell_type": "code",
   "execution_count": 89,
   "id": "5b417f99",
   "metadata": {},
   "outputs": [
    {
     "data": {
      "text/plain": [
       "120"
      ]
     },
     "execution_count": 89,
     "metadata": {},
     "output_type": "execute_result"
    }
   ],
   "source": [
    "\n",
    "len(Votess)"
   ]
  },
  {
   "cell_type": "code",
   "execution_count": 90,
   "id": "d81385e5",
   "metadata": {},
   "outputs": [
    {
     "data": {
      "text/plain": [
       "120"
      ]
     },
     "execution_count": 90,
     "metadata": {},
     "output_type": "execute_result"
    }
   ],
   "source": [
    "len(Namess)"
   ]
  },
  {
   "cell_type": "code",
   "execution_count": 91,
   "id": "5b53d623",
   "metadata": {},
   "outputs": [
    {
     "data": {
      "text/plain": [
       "120"
      ]
     },
     "execution_count": 91,
     "metadata": {},
     "output_type": "execute_result"
    }
   ],
   "source": [
    "\n",
    "len(Ratingss)"
   ]
  },
  {
   "cell_type": "code",
   "execution_count": 92,
   "id": "f2cdf3e0",
   "metadata": {},
   "outputs": [],
   "source": [
    "df['Name']=Namess\n",
    "df['Rating']=Ratingss\n",
    "df['Votes']=Votess\n",
    "df['Detail']=Info\n",
    "df['Price']=Pricess"
   ]
  },
  {
   "cell_type": "code",
   "execution_count": 93,
   "id": "457f8a75",
   "metadata": {},
   "outputs": [
    {
     "data": {
      "text/html": [
       "<div>\n",
       "<style scoped>\n",
       "    .dataframe tbody tr th:only-of-type {\n",
       "        vertical-align: middle;\n",
       "    }\n",
       "\n",
       "    .dataframe tbody tr th {\n",
       "        vertical-align: top;\n",
       "    }\n",
       "\n",
       "    .dataframe thead th {\n",
       "        text-align: right;\n",
       "    }\n",
       "</style>\n",
       "<table border=\"1\" class=\"dataframe\">\n",
       "  <thead>\n",
       "    <tr style=\"text-align: right;\">\n",
       "      <th></th>\n",
       "      <th>Name</th>\n",
       "      <th>Rating</th>\n",
       "      <th>Votes</th>\n",
       "      <th>Detail</th>\n",
       "      <th>Price</th>\n",
       "    </tr>\n",
       "  </thead>\n",
       "  <tbody>\n",
       "    <tr>\n",
       "      <th>0</th>\n",
       "      <td>APPLE iPhone 14 (Blue, 128 GB)</td>\n",
       "      <td>4.6</td>\n",
       "      <td>1,421 Ratings &amp; 80 Reviews</td>\n",
       "      <td>128 GB ROM15.49 cm (6.1 inch) Super Retina XDR...</td>\n",
       "      <td>₹66,999</td>\n",
       "    </tr>\n",
       "    <tr>\n",
       "      <th>1</th>\n",
       "      <td>POCO M4 Pro 5G (Cool Blue, 128 GB)</td>\n",
       "      <td>4.2</td>\n",
       "      <td>42,292 Ratings &amp; 3,788 Reviews</td>\n",
       "      <td>6 GB RAM | 128 GB ROM | Expandable Upto 1 TB16...</td>\n",
       "      <td>₹13,999</td>\n",
       "    </tr>\n",
       "    <tr>\n",
       "      <th>2</th>\n",
       "      <td>APPLE iPhone 14 (Purple, 128 GB)</td>\n",
       "      <td>4.6</td>\n",
       "      <td>1,421 Ratings &amp; 80 Reviews</td>\n",
       "      <td>128 GB ROM15.49 cm (6.1 inch) Super Retina XDR...</td>\n",
       "      <td>₹67,999</td>\n",
       "    </tr>\n",
       "    <tr>\n",
       "      <th>3</th>\n",
       "      <td>APPLE iPhone 14 (Midnight, 128 GB)</td>\n",
       "      <td>4.6</td>\n",
       "      <td>1,421 Ratings &amp; 80 Reviews</td>\n",
       "      <td>128 GB ROM15.49 cm (6.1 inch) Super Retina XDR...</td>\n",
       "      <td>₹66,999</td>\n",
       "    </tr>\n",
       "    <tr>\n",
       "      <th>4</th>\n",
       "      <td>POCO M4 5G (Cool Blue, 64 GB)</td>\n",
       "      <td>4.2</td>\n",
       "      <td>46,156 Ratings &amp; 3,790 Reviews</td>\n",
       "      <td>4 GB RAM | 64 GB ROM | Expandable Upto 512 GB1...</td>\n",
       "      <td>₹11,999</td>\n",
       "    </tr>\n",
       "    <tr>\n",
       "      <th>...</th>\n",
       "      <td>...</td>\n",
       "      <td>...</td>\n",
       "      <td>...</td>\n",
       "      <td>...</td>\n",
       "      <td>...</td>\n",
       "    </tr>\n",
       "    <tr>\n",
       "      <th>115</th>\n",
       "      <td>Google Pixel 7 (Lemongrass, 128 GB)</td>\n",
       "      <td>4.4</td>\n",
       "      <td>1,861 Ratings &amp; 339 Reviews</td>\n",
       "      <td>8 GB RAM | 128 GB ROM16.0 cm (6.3 inch) Full H...</td>\n",
       "      <td>₹56,999</td>\n",
       "    </tr>\n",
       "    <tr>\n",
       "      <th>116</th>\n",
       "      <td>Google Pixel 7 (Obsidian, 128 GB)</td>\n",
       "      <td>4.4</td>\n",
       "      <td>1,861 Ratings &amp; 339 Reviews</td>\n",
       "      <td>8 GB RAM | 128 GB ROM16.0 cm (6.3 inch) Full H...</td>\n",
       "      <td>₹56,999</td>\n",
       "    </tr>\n",
       "    <tr>\n",
       "      <th>117</th>\n",
       "      <td>realme 10 Pro 5G (Nebula Blue, 128 GB)</td>\n",
       "      <td>4.4</td>\n",
       "      <td>2,154 Ratings &amp; 202 Reviews</td>\n",
       "      <td>8 GB RAM | 128 GB ROM | Expandable Upto 1 TB17...</td>\n",
       "      <td>₹19,999</td>\n",
       "    </tr>\n",
       "    <tr>\n",
       "      <th>118</th>\n",
       "      <td>realme 10 Pro+ 5G (Hyperspace, 128 GB)</td>\n",
       "      <td>4.5</td>\n",
       "      <td>2,541 Ratings &amp; 385 Reviews</td>\n",
       "      <td>8 GB RAM | 128 GB ROM17.02 cm (6.7 inch) Full ...</td>\n",
       "      <td>₹25,999</td>\n",
       "    </tr>\n",
       "    <tr>\n",
       "      <th>119</th>\n",
       "      <td>realme 10 Pro+ 5G (Nebula Blue, 256 GB)</td>\n",
       "      <td>4.5</td>\n",
       "      <td>2,541 Ratings &amp; 385 Reviews</td>\n",
       "      <td>8 GB RAM | 256 GB ROM17.02 cm (6.7 inch) Full ...</td>\n",
       "      <td>₹27,999</td>\n",
       "    </tr>\n",
       "  </tbody>\n",
       "</table>\n",
       "<p>120 rows × 5 columns</p>\n",
       "</div>"
      ],
      "text/plain": [
       "                                        Name Rating  \\\n",
       "0             APPLE iPhone 14 (Blue, 128 GB)    4.6   \n",
       "1         POCO M4 Pro 5G (Cool Blue, 128 GB)    4.2   \n",
       "2           APPLE iPhone 14 (Purple, 128 GB)    4.6   \n",
       "3         APPLE iPhone 14 (Midnight, 128 GB)    4.6   \n",
       "4              POCO M4 5G (Cool Blue, 64 GB)    4.2   \n",
       "..                                       ...    ...   \n",
       "115      Google Pixel 7 (Lemongrass, 128 GB)    4.4   \n",
       "116        Google Pixel 7 (Obsidian, 128 GB)    4.4   \n",
       "117   realme 10 Pro 5G (Nebula Blue, 128 GB)    4.4   \n",
       "118   realme 10 Pro+ 5G (Hyperspace, 128 GB)    4.5   \n",
       "119  realme 10 Pro+ 5G (Nebula Blue, 256 GB)    4.5   \n",
       "\n",
       "                              Votes  \\\n",
       "0        1,421 Ratings & 80 Reviews   \n",
       "1    42,292 Ratings & 3,788 Reviews   \n",
       "2        1,421 Ratings & 80 Reviews   \n",
       "3        1,421 Ratings & 80 Reviews   \n",
       "4    46,156 Ratings & 3,790 Reviews   \n",
       "..                              ...   \n",
       "115     1,861 Ratings & 339 Reviews   \n",
       "116     1,861 Ratings & 339 Reviews   \n",
       "117     2,154 Ratings & 202 Reviews   \n",
       "118     2,541 Ratings & 385 Reviews   \n",
       "119     2,541 Ratings & 385 Reviews   \n",
       "\n",
       "                                                Detail    Price  \n",
       "0    128 GB ROM15.49 cm (6.1 inch) Super Retina XDR...  ₹66,999  \n",
       "1    6 GB RAM | 128 GB ROM | Expandable Upto 1 TB16...  ₹13,999  \n",
       "2    128 GB ROM15.49 cm (6.1 inch) Super Retina XDR...  ₹67,999  \n",
       "3    128 GB ROM15.49 cm (6.1 inch) Super Retina XDR...  ₹66,999  \n",
       "4    4 GB RAM | 64 GB ROM | Expandable Upto 512 GB1...  ₹11,999  \n",
       "..                                                 ...      ...  \n",
       "115  8 GB RAM | 128 GB ROM16.0 cm (6.3 inch) Full H...  ₹56,999  \n",
       "116  8 GB RAM | 128 GB ROM16.0 cm (6.3 inch) Full H...  ₹56,999  \n",
       "117  8 GB RAM | 128 GB ROM | Expandable Upto 1 TB17...  ₹19,999  \n",
       "118  8 GB RAM | 128 GB ROM17.02 cm (6.7 inch) Full ...  ₹25,999  \n",
       "119  8 GB RAM | 256 GB ROM17.02 cm (6.7 inch) Full ...  ₹27,999  \n",
       "\n",
       "[120 rows x 5 columns]"
      ]
     },
     "execution_count": 93,
     "metadata": {},
     "output_type": "execute_result"
    }
   ],
   "source": [
    "df"
   ]
  },
  {
   "cell_type": "code",
   "execution_count": 94,
   "id": "8e0759d2",
   "metadata": {},
   "outputs": [],
   "source": [
    "df.to_csv('new.csv')"
   ]
  },
  {
   "cell_type": "code",
   "execution_count": 95,
   "id": "f18def8e",
   "metadata": {},
   "outputs": [],
   "source": [
    "df=pd.read_csv('new.csv')"
   ]
  },
  {
   "cell_type": "code",
   "execution_count": 96,
   "id": "ee59d0dc",
   "metadata": {},
   "outputs": [],
   "source": [
    "df=df.drop(columns='Unnamed: 0')"
   ]
  },
  {
   "cell_type": "code",
   "execution_count": 97,
   "id": "ba2b224c",
   "metadata": {},
   "outputs": [],
   "source": [
    "df['Mob_Name']=df['Name'].str.split('(').str.get(0)"
   ]
  },
  {
   "cell_type": "code",
   "execution_count": 98,
   "id": "c10b5ef4",
   "metadata": {},
   "outputs": [],
   "source": [
    "df['Colour']=df['Name'].str.split('(').str.get(1).str.split(',').str.get(0)"
   ]
  },
  {
   "cell_type": "code",
   "execution_count": 99,
   "id": "8c2404c0",
   "metadata": {},
   "outputs": [
    {
     "name": "stderr",
     "output_type": "stream",
     "text": [
      "C:\\Users\\pc\\AppData\\Local\\Temp/ipykernel_11528/1286470571.py:1: FutureWarning: The default value of regex will change from True to False in a future version. In addition, single character regular expressions will *not* be treated as literal strings when regex=True.\n",
      "  df['Rom']=df['Name'].str.split('(').str.get(1).str.split(',').str.get(1).str.replace(')','')\n"
     ]
    }
   ],
   "source": [
    "df['Rom']=df['Name'].str.split('(').str.get(1).str.split(',').str.get(1).str.replace(')','')"
   ]
  },
  {
   "cell_type": "code",
   "execution_count": 100,
   "id": "20c85316",
   "metadata": {},
   "outputs": [],
   "source": [
    "df['Rate_Count']=df['Votes'].str.split('&').str.get(0)"
   ]
  },
  {
   "cell_type": "code",
   "execution_count": 101,
   "id": "ae51850d",
   "metadata": {},
   "outputs": [],
   "source": [
    "df['Review_Count']=df['Votes'].str.split('&').str.get(1)"
   ]
  },
  {
   "cell_type": "code",
   "execution_count": 102,
   "id": "dd4a0ec6",
   "metadata": {},
   "outputs": [],
   "source": [
    "df['Ram']=df['Detail'].str.split('|').str.get(0)"
   ]
  },
  {
   "cell_type": "code",
   "execution_count": 103,
   "id": "9dc72672",
   "metadata": {},
   "outputs": [],
   "source": [
    "df['Prices']=df['Price'].str.replace('₹','').str.replace(',','').astype('int32')"
   ]
  },
  {
   "cell_type": "code",
   "execution_count": 104,
   "id": "e41a46a6",
   "metadata": {},
   "outputs": [],
   "source": [
    "df.drop(columns={'Name',\"Votes\",'Detail','Price'},inplace=True)"
   ]
  },
  {
   "cell_type": "code",
   "execution_count": 105,
   "id": "3dfc9fb2",
   "metadata": {},
   "outputs": [],
   "source": [
    "df['Ratings']=df['Rating']"
   ]
  },
  {
   "cell_type": "code",
   "execution_count": 106,
   "id": "e7bda6e0",
   "metadata": {},
   "outputs": [],
   "source": [
    "df=df.drop(columns='Rating')"
   ]
  },
  {
   "cell_type": "code",
   "execution_count": 107,
   "id": "cd6d7bdd",
   "metadata": {},
   "outputs": [],
   "source": [
    "df['Rate_Count']=df['Rate_Count'].str.split(' ').str.get(0).str.replace(',','').astype('int32')"
   ]
  },
  {
   "cell_type": "code",
   "execution_count": 108,
   "id": "1f85f117",
   "metadata": {},
   "outputs": [],
   "source": [
    "df['Review_Count']=df['Review_Count'].str.split(' ').str.get(0).str.replace(',','').astype('int32')"
   ]
  },
  {
   "cell_type": "code",
   "execution_count": 109,
   "id": "6741df93",
   "metadata": {},
   "outputs": [],
   "source": [
    "df['Ram']=df['Ram'].str.split(' ').str.get(0).str.replace('128','6').astype('int32')"
   ]
  },
  {
   "cell_type": "code",
   "execution_count": 110,
   "id": "298ff938",
   "metadata": {},
   "outputs": [
    {
     "data": {
      "text/plain": [
       " 128 GB    82\n",
       " 256 GB    18\n",
       " 64 GB     15\n",
       "Name: Rom, dtype: int64"
      ]
     },
     "execution_count": 110,
     "metadata": {},
     "output_type": "execute_result"
    }
   ],
   "source": [
    "df['Rom'].value_counts()"
   ]
  },
  {
   "cell_type": "code",
   "execution_count": 120,
   "id": "e88530b6",
   "metadata": {},
   "outputs": [],
   "source": [
    "df['Rom']=df['Rom'].str.split().str.get(0).fillna('128').astype('int32')"
   ]
  },
  {
   "cell_type": "code",
   "execution_count": 121,
   "id": "34e3fe9e",
   "metadata": {},
   "outputs": [
    {
     "name": "stdout",
     "output_type": "stream",
     "text": [
      "<class 'pandas.core.frame.DataFrame'>\n",
      "RangeIndex: 120 entries, 0 to 119\n",
      "Data columns (total 8 columns):\n",
      " #   Column        Non-Null Count  Dtype  \n",
      "---  ------        --------------  -----  \n",
      " 0   Mob_Name      120 non-null    object \n",
      " 1   Colour        120 non-null    object \n",
      " 2   Rom           120 non-null    int32  \n",
      " 3   Rate_Count    120 non-null    int32  \n",
      " 4   Review_Count  120 non-null    int32  \n",
      " 5   Ram           120 non-null    int32  \n",
      " 6   Prices        120 non-null    int32  \n",
      " 7   Ratings       120 non-null    float64\n",
      "dtypes: float64(1), int32(5), object(2)\n",
      "memory usage: 5.3+ KB\n"
     ]
    }
   ],
   "source": [
    "df.info()"
   ]
  },
  {
   "cell_type": "code",
   "execution_count": 122,
   "id": "ce5d91df",
   "metadata": {},
   "outputs": [
    {
     "data": {
      "text/html": [
       "<div>\n",
       "<style scoped>\n",
       "    .dataframe tbody tr th:only-of-type {\n",
       "        vertical-align: middle;\n",
       "    }\n",
       "\n",
       "    .dataframe tbody tr th {\n",
       "        vertical-align: top;\n",
       "    }\n",
       "\n",
       "    .dataframe thead th {\n",
       "        text-align: right;\n",
       "    }\n",
       "</style>\n",
       "<table border=\"1\" class=\"dataframe\">\n",
       "  <thead>\n",
       "    <tr style=\"text-align: right;\">\n",
       "      <th></th>\n",
       "      <th>Mob_Name</th>\n",
       "      <th>Colour</th>\n",
       "      <th>Rom</th>\n",
       "      <th>Rate_Count</th>\n",
       "      <th>Review_Count</th>\n",
       "      <th>Ram</th>\n",
       "      <th>Prices</th>\n",
       "      <th>Ratings</th>\n",
       "    </tr>\n",
       "  </thead>\n",
       "  <tbody>\n",
       "    <tr>\n",
       "      <th>0</th>\n",
       "      <td>APPLE iPhone 14</td>\n",
       "      <td>Blue</td>\n",
       "      <td>128</td>\n",
       "      <td>1421</td>\n",
       "      <td>80</td>\n",
       "      <td>6</td>\n",
       "      <td>66999</td>\n",
       "      <td>4.6</td>\n",
       "    </tr>\n",
       "    <tr>\n",
       "      <th>1</th>\n",
       "      <td>POCO M4 Pro 5G</td>\n",
       "      <td>Cool Blue</td>\n",
       "      <td>128</td>\n",
       "      <td>42292</td>\n",
       "      <td>3788</td>\n",
       "      <td>6</td>\n",
       "      <td>13999</td>\n",
       "      <td>4.2</td>\n",
       "    </tr>\n",
       "    <tr>\n",
       "      <th>2</th>\n",
       "      <td>APPLE iPhone 14</td>\n",
       "      <td>Purple</td>\n",
       "      <td>128</td>\n",
       "      <td>1421</td>\n",
       "      <td>80</td>\n",
       "      <td>6</td>\n",
       "      <td>67999</td>\n",
       "      <td>4.6</td>\n",
       "    </tr>\n",
       "    <tr>\n",
       "      <th>3</th>\n",
       "      <td>APPLE iPhone 14</td>\n",
       "      <td>Midnight</td>\n",
       "      <td>128</td>\n",
       "      <td>1421</td>\n",
       "      <td>80</td>\n",
       "      <td>6</td>\n",
       "      <td>66999</td>\n",
       "      <td>4.6</td>\n",
       "    </tr>\n",
       "    <tr>\n",
       "      <th>4</th>\n",
       "      <td>POCO M4 5G</td>\n",
       "      <td>Cool Blue</td>\n",
       "      <td>64</td>\n",
       "      <td>46156</td>\n",
       "      <td>3790</td>\n",
       "      <td>4</td>\n",
       "      <td>11999</td>\n",
       "      <td>4.2</td>\n",
       "    </tr>\n",
       "  </tbody>\n",
       "</table>\n",
       "</div>"
      ],
      "text/plain": [
       "           Mob_Name     Colour  Rom  Rate_Count  Review_Count  Ram  Prices  \\\n",
       "0  APPLE iPhone 14        Blue  128        1421            80    6   66999   \n",
       "1   POCO M4 Pro 5G   Cool Blue  128       42292          3788    6   13999   \n",
       "2  APPLE iPhone 14      Purple  128        1421            80    6   67999   \n",
       "3  APPLE iPhone 14    Midnight  128        1421            80    6   66999   \n",
       "4       POCO M4 5G   Cool Blue   64       46156          3790    4   11999   \n",
       "\n",
       "   Ratings  \n",
       "0      4.6  \n",
       "1      4.2  \n",
       "2      4.6  \n",
       "3      4.6  \n",
       "4      4.2  "
      ]
     },
     "execution_count": 122,
     "metadata": {},
     "output_type": "execute_result"
    }
   ],
   "source": [
    "df.head()"
   ]
  },
  {
   "cell_type": "code",
   "execution_count": 123,
   "id": "a9500a4a",
   "metadata": {},
   "outputs": [
    {
     "data": {
      "text/plain": [
       "<AxesSubplot:>"
      ]
     },
     "execution_count": 123,
     "metadata": {},
     "output_type": "execute_result"
    },
    {
     "data": {
      "image/png": "[encoded data removed]",
      "text/plain": [
       "<Figure size 432x288 with 2 Axes>"
      ]
     },
     "metadata": {
      "needs_background": "light"
     },
     "output_type": "display_data"
    }
   ],
   "source": [
    "sns.heatmap(df.corr())"
   ]
  },
  {
   "cell_type": "code",
   "execution_count": 124,
   "id": "6288e509",
   "metadata": {},
   "outputs": [
    {
     "data": {
      "text/plain": [
       "<AxesSubplot:>"
      ]
     },
     "execution_count": 124,
     "metadata": {},
     "output_type": "execute_result"
    },
    {
     "data": {
      "image/png": "[encoded data removed]",
      "text/plain": [
       "<Figure size 432x288 with 1 Axes>"
      ]
     },
     "metadata": {
      "needs_background": "light"
     },
     "output_type": "display_data"
    }
   ],
   "source": [
    "df['Colour'].value_counts().head().plot(kind='bar')"
   ]
  },
  {
   "cell_type": "code",
   "execution_count": 125,
   "id": "ee5e1068",
   "metadata": {},
   "outputs": [
    {
     "data": {
      "text/plain": [
       "<AxesSubplot:>"
      ]
     },
     "execution_count": 125,
     "metadata": {},
     "output_type": "execute_result"
    },
    {
     "data": {
      "image/png": "[encoded data removed]",
      "text/plain": [
       "<Figure size 432x288 with 1 Axes>"
      ]
     },
     "metadata": {
      "needs_background": "light"
     },
     "output_type": "display_data"
    }
   ],
   "source": [
    "df['Ratings'].value_counts().plot(kind='bar')"
   ]
  },
  {
   "cell_type": "code",
   "execution_count": 128,
   "id": "45fc507b",
   "metadata": {},
   "outputs": [
    {
     "data": {
      "text/html": [
       "<div>\n",
       "<style scoped>\n",
       "    .dataframe tbody tr th:only-of-type {\n",
       "        vertical-align: middle;\n",
       "    }\n",
       "\n",
       "    .dataframe tbody tr th {\n",
       "        vertical-align: top;\n",
       "    }\n",
       "\n",
       "    .dataframe thead th {\n",
       "        text-align: right;\n",
       "    }\n",
       "</style>\n",
       "<table border=\"1\" class=\"dataframe\">\n",
       "  <thead>\n",
       "    <tr style=\"text-align: right;\">\n",
       "      <th></th>\n",
       "      <th>Mob_Name</th>\n",
       "      <th>Colour</th>\n",
       "      <th>Rom</th>\n",
       "      <th>Rate_Count</th>\n",
       "      <th>Review_Count</th>\n",
       "      <th>Ram</th>\n",
       "      <th>Prices</th>\n",
       "      <th>Ratings</th>\n",
       "    </tr>\n",
       "  </thead>\n",
       "  <tbody>\n",
       "    <tr>\n",
       "      <th>4</th>\n",
       "      <td>POCO M4 5G</td>\n",
       "      <td>Cool Blue</td>\n",
       "      <td>64</td>\n",
       "      <td>46156</td>\n",
       "      <td>3790</td>\n",
       "      <td>4</td>\n",
       "      <td>11999</td>\n",
       "      <td>4.2</td>\n",
       "    </tr>\n",
       "    <tr>\n",
       "      <th>6</th>\n",
       "      <td>POCO M4 Pro 5G</td>\n",
       "      <td>Cool Blue</td>\n",
       "      <td>64</td>\n",
       "      <td>34181</td>\n",
       "      <td>3043</td>\n",
       "      <td>4</td>\n",
       "      <td>11999</td>\n",
       "      <td>4.3</td>\n",
       "    </tr>\n",
       "    <tr>\n",
       "      <th>14</th>\n",
       "      <td>POCO M4 5G</td>\n",
       "      <td>Power Black</td>\n",
       "      <td>64</td>\n",
       "      <td>46156</td>\n",
       "      <td>3790</td>\n",
       "      <td>4</td>\n",
       "      <td>11999</td>\n",
       "      <td>4.2</td>\n",
       "    </tr>\n",
       "    <tr>\n",
       "      <th>15</th>\n",
       "      <td>POCO M4 Pro 5G</td>\n",
       "      <td>Yellow</td>\n",
       "      <td>64</td>\n",
       "      <td>34181</td>\n",
       "      <td>3043</td>\n",
       "      <td>4</td>\n",
       "      <td>11999</td>\n",
       "      <td>4.3</td>\n",
       "    </tr>\n",
       "    <tr>\n",
       "      <th>67</th>\n",
       "      <td>POCO M4 5G</td>\n",
       "      <td>Yellow</td>\n",
       "      <td>64</td>\n",
       "      <td>46156</td>\n",
       "      <td>3790</td>\n",
       "      <td>4</td>\n",
       "      <td>11999</td>\n",
       "      <td>4.2</td>\n",
       "    </tr>\n",
       "  </tbody>\n",
       "</table>\n",
       "</div>"
      ],
      "text/plain": [
       "           Mob_Name       Colour  Rom  Rate_Count  Review_Count  Ram  Prices  \\\n",
       "4       POCO M4 5G     Cool Blue   64       46156          3790    4   11999   \n",
       "6   POCO M4 Pro 5G     Cool Blue   64       34181          3043    4   11999   \n",
       "14      POCO M4 5G   Power Black   64       46156          3790    4   11999   \n",
       "15  POCO M4 Pro 5G        Yellow   64       34181          3043    4   11999   \n",
       "67      POCO M4 5G        Yellow   64       46156          3790    4   11999   \n",
       "\n",
       "    Ratings  \n",
       "4       4.2  \n",
       "6       4.3  \n",
       "14      4.2  \n",
       "15      4.3  \n",
       "67      4.2  "
      ]
     },
     "execution_count": 128,
     "metadata": {},
     "output_type": "execute_result"
    }
   ],
   "source": [
    "df[df['Prices']==df['Prices'].min()]"
   ]
  },
  {
   "cell_type": "code",
   "execution_count": 129,
   "id": "ca955031",
   "metadata": {},
   "outputs": [
    {
     "data": {
      "text/html": [
       "<div>\n",
       "<style scoped>\n",
       "    .dataframe tbody tr th:only-of-type {\n",
       "        vertical-align: middle;\n",
       "    }\n",
       "\n",
       "    .dataframe tbody tr th {\n",
       "        vertical-align: top;\n",
       "    }\n",
       "\n",
       "    .dataframe thead th {\n",
       "        text-align: right;\n",
       "    }\n",
       "</style>\n",
       "<table border=\"1\" class=\"dataframe\">\n",
       "  <thead>\n",
       "    <tr style=\"text-align: right;\">\n",
       "      <th></th>\n",
       "      <th>Mob_Name</th>\n",
       "      <th>Colour</th>\n",
       "      <th>Rom</th>\n",
       "      <th>Rate_Count</th>\n",
       "      <th>Review_Count</th>\n",
       "      <th>Ram</th>\n",
       "      <th>Prices</th>\n",
       "      <th>Ratings</th>\n",
       "    </tr>\n",
       "  </thead>\n",
       "  <tbody>\n",
       "    <tr>\n",
       "      <th>91</th>\n",
       "      <td>APPLE iPhone 14 Plus</td>\n",
       "      <td>Blue</td>\n",
       "      <td>256</td>\n",
       "      <td>546</td>\n",
       "      <td>56</td>\n",
       "      <td>256</td>\n",
       "      <td>85999</td>\n",
       "      <td>4.6</td>\n",
       "    </tr>\n",
       "    <tr>\n",
       "      <th>92</th>\n",
       "      <td>APPLE iPhone 14 Plus</td>\n",
       "      <td>Starlight</td>\n",
       "      <td>256</td>\n",
       "      <td>546</td>\n",
       "      <td>56</td>\n",
       "      <td>256</td>\n",
       "      <td>85999</td>\n",
       "      <td>4.6</td>\n",
       "    </tr>\n",
       "  </tbody>\n",
       "</table>\n",
       "</div>"
      ],
      "text/plain": [
       "                 Mob_Name     Colour  Rom  Rate_Count  Review_Count  Ram  \\\n",
       "91  APPLE iPhone 14 Plus        Blue  256         546            56  256   \n",
       "92  APPLE iPhone 14 Plus   Starlight  256         546            56  256   \n",
       "\n",
       "    Prices  Ratings  \n",
       "91   85999      4.6  \n",
       "92   85999      4.6  "
      ]
     },
     "execution_count": 129,
     "metadata": {},
     "output_type": "execute_result"
    }
   ],
   "source": [
    "df[df['Prices']==df['Prices'].max()]"
   ]
  },
  {
   "cell_type": "code",
   "execution_count": null,
   "id": "22e04a92",
   "metadata": {},
   "outputs": [],
   "source": []
  }
 ],
 "metadata": {
  "kernelspec": {
   "display_name": "Python 3 (ipykernel)",
   "language": "python",
   "name": "python3"
  },
  "language_info": {
   "codemirror_mode": {
    "name": "ipython",
    "version": 3
   },
   "file_extension": ".py",
   "mimetype": "text/x-python",
   "name": "python",
   "nbconvert_exporter": "python",
   "pygments_lexer": "ipython3",
   "version": "3.9.5"
  }
 },
 "nbformat": 4,
 "nbformat_minor": 5
}
